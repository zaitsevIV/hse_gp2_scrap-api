{
  "nbformat": 4,
  "nbformat_minor": 0,
  "metadata": {
    "colab": {
      "provenance": [],
      "authorship_tag": "ABX9TyPiufR4u3PJqj8njGn56qIp",
      "include_colab_link": true
    },
    "kernelspec": {
      "name": "python3",
      "display_name": "Python 3"
    },
    "language_info": {
      "name": "python"
    }
  },
  "cells": [
    {
      "cell_type": "markdown",
      "metadata": {
        "id": "view-in-github",
        "colab_type": "text"
      },
      "source": [
        "<a href=\"https://colab.research.google.com/github/zaitsevIV/hse_gp2_scrap-api/blob/develop/prc_bashk.ipynb\" target=\"_parent\"><img src=\"https://colab.research.google.com/assets/colab-badge.svg\" alt=\"Open In Colab\"/></a>"
      ]
    },
    {
      "cell_type": "code",
      "execution_count": null,
      "metadata": {
        "id": "SURFDVoT6ycM"
      },
      "outputs": [],
      "source": [
        "import requests\n",
        "from bs4 import BeautifulSoup\n",
        "import numpy as np\n",
        "import time\n",
        "from tqdm import tqdm\n",
        "\n",
        "\n",
        "links_basck = []\n",
        "pages = range(1, 50)\n",
        "time_start = time.time()\n",
        "for current_page in tqdm(pages):\n",
        "  url = f'https://bashkortostan.rabota.ru/vacancy/?page={current_page}'\n",
        "  page = requests.get(url)\n",
        "  soup = BeautifulSoup(page.text, 'html')\n",
        "  for link in soup.find_all('a', class_=\"vacancy-preview-card__title_border\"):\n",
        "    links_basck.append(f\"https://bashkortostan.rabota.ru{link.get('href')}\")\n",
        "    time.sleep(0.5)\n",
        "  time.sleep(2)\n",
        "time_end = time.time()\n",
        "print(f'\\nВремя загрузки данных по Республики Башкортостан - {(time_end - time_start) / 60}')"
      ]
    },
    {
      "cell_type": "code",
      "source": [
        "result_basck = []\n",
        "time_start = time.time()\n",
        "for i in tqdm(range(len(links_basck))):\n",
        "  page = requests.get(links_basck[i])\n",
        "  soup = BeautifulSoup(page.text, 'html')\n",
        "  try:\n",
        "    city = soup.find('span', class_='vacancy-requirements__city').get_text().strip()[:-1]\n",
        "  except AttributeError:\n",
        "    city = np.nan\n",
        "  try:\n",
        "    position = soup.find('h1', class_='vacancy-card__title').get_text().replace(\"\\n\", \"\").strip()\n",
        "  except AttributeError:\n",
        "    position = np.nan\n",
        "  try:\n",
        "    salary = soup.find('h3', class_='vacancy-card__salary').get_text()\n",
        "  except AttributeError:\n",
        "    salary = np.nan\n",
        "  result_basck.append([city, position, salary, links_basck[i]])\n",
        "  time.sleep(0.5)\n",
        "time_end = time.time()"
      ],
      "metadata": {
        "id": "_wM8D7C_63pu"
      },
      "execution_count": null,
      "outputs": []
    },
    {
      "cell_type": "code",
      "source": [
        "import pandas as pd\n",
        "basck = pd.DataFrame(result_basck, columns=['city', 'position', 'salary', 'link'])\n",
        "basck.to_csv('basck', sep=',', encoding='utf-8')"
      ],
      "metadata": {
        "id": "X4kBOmwk66ay"
      },
      "execution_count": null,
      "outputs": []
    }
  ]
}