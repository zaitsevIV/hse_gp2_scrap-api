{
  "nbformat": 4,
  "nbformat_minor": 0,
  "metadata": {
    "colab": {
      "provenance": [],
      "include_colab_link": true
    },
    "kernelspec": {
      "name": "python3",
      "display_name": "Python 3"
    },
    "language_info": {
      "name": "python"
    }
  },
  "cells": [
    {
      "cell_type": "markdown",
      "metadata": {
        "id": "view-in-github",
        "colab_type": "text"
      },
      "source": [
        "<a href=\"https://colab.research.google.com/github/zaitsevIV/hse_gp2_scrap-api/blob/develop/prc_chelyb.ipynb\" target=\"_parent\"><img src=\"https://colab.research.google.com/assets/colab-badge.svg\" alt=\"Open In Colab\"/></a>"
      ]
    },
    {
      "cell_type": "code",
      "source": [
        "links_chelyb = []\n",
        "pages = range(1, 54)\n",
        "time_start = time.time()\n",
        "for current_page in tqdm(pages):\n",
        "  url = f'https://chelyabinskaya.rabota.ru/vacancy/?page={current_page}'\n",
        "  page = requests.get(url)\n",
        "  soup = BeautifulSoup(page.text, 'html')\n",
        "  for link in soup.find_all('a', class_=\"vacancy-preview-card__title_border\"):\n",
        "    links_chelyb.append(f\"https://chelyabinskaya.rabota.ru{link.get('href')}\")\n",
        "    time.sleep(0.5)\n",
        "  time.sleep(2)\n",
        "time_end = time.time()\n",
        "print(f'\\nВремя загрузки данных по Челябинской области {(time_end - time_start) / 60}')"
      ],
      "metadata": {
        "colab": {
          "base_uri": "https://localhost:8080/"
        },
        "id": "B78nDK_lkueH",
        "outputId": "5ad635b2-98de-4ab2-f5fa-ab7392dc9c54"
      },
      "execution_count": null,
      "outputs": [
        {
          "output_type": "stream",
          "name": "stderr",
          "text": [
            "100%|██████████| 53/53 [18:22<00:00, 20.80s/it]"
          ]
        },
        {
          "output_type": "stream",
          "name": "stdout",
          "text": [
            "\n",
            "Время загрузки данных по Челябинской области 18.37250917752584\n"
          ]
        },
        {
          "output_type": "stream",
          "name": "stderr",
          "text": [
            "\n"
          ]
        }
      ]
    },
    {
      "cell_type": "code",
      "source": [
        "result_chelyb = []\n",
        "time_start = time.time()\n",
        "for i in tqdm(range(len(links_chelyb))):\n",
        "  page = requests.get(links_chelyb[i])\n",
        "  soup = BeautifulSoup(page.text, 'html')\n",
        "  try:\n",
        "    city = soup.find('span', class_='vacancy-requirements__city').get_text().strip()[:-1]\n",
        "  except AttributeError:\n",
        "    city = np.nan\n",
        "  try:\n",
        "    position = soup.find('h1', class_='vacancy-card__title').get_text().replace(\"\\n\", \"\").strip()\n",
        "  except AttributeError:\n",
        "    position = np.nan\n",
        "  try:\n",
        "    salary = soup.find('h3', class_='vacancy-card__salary').get_text()\n",
        "  except AttributeError:\n",
        "    salary = np.nan\n",
        "  result_chelyb.append([city, position, salary, links_chelyb[i]])\n",
        "  time.sleep(0.5)\n",
        "time_end = time.time()"
      ],
      "metadata": {
        "colab": {
          "base_uri": "https://localhost:8080/"
        },
        "id": "s5opDkHvl0iY",
        "outputId": "960ed403-5048-4d53-ff53-d938f6fe7c0c"
      },
      "execution_count": null,
      "outputs": [
        {
          "output_type": "stream",
          "name": "stderr",
          "text": [
            "100%|██████████| 1585/1585 [1:04:56<00:00,  2.46s/it]\n"
          ]
        }
      ]
    },
    {
      "cell_type": "code",
      "source": [
        "import pandas as pd\n",
        "chelyb = pd.DataFrame(result_chelyb, columns=['city', 'position', 'salary', 'link'])\n",
        "chelyb.to_csv('chelyb', sep=',', encoding='utf-8')"
      ],
      "metadata": {
        "id": "5NXI0DAlbUZh"
      },
      "execution_count": null,
      "outputs": []
    }
  ]
}